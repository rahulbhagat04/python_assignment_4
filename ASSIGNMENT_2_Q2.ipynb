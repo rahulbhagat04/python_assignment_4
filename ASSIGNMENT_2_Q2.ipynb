{
 "cells": [
  {
   "cell_type": "code",
   "execution_count": 1,
   "id": "6d305c99-754b-4dd7-acbf-0ea5d8198a8b",
   "metadata": {},
   "outputs": [],
   "source": [
    "# Q2. Write a Python Program to find the squares of all the numbers in the given list of integers using\n",
    "#     lambda and map functions.\n",
    "#     [1, 2, 3, 4, 5, 6, 7, 8, 9, 10]"
   ]
  },
  {
   "cell_type": "code",
   "execution_count": 2,
   "id": "ecb26320-5622-40ac-b1f5-ba1c1a85b734",
   "metadata": {},
   "outputs": [],
   "source": [
    "a= [1, 2, 3, 4, 5, 6, 7, 8, 9, 10]"
   ]
  },
  {
   "cell_type": "code",
   "execution_count": 8,
   "id": "041f68b7-5e92-44a4-95cb-17615d1718eb",
   "metadata": {},
   "outputs": [],
   "source": [
    "pow=lambda x:x**2"
   ]
  },
  {
   "cell_type": "code",
   "execution_count": 9,
   "id": "55f7bb7f-3a77-4276-b976-815f45c4684d",
   "metadata": {},
   "outputs": [
    {
     "data": {
      "text/plain": [
       "[1, 4, 9, 16, 25, 36, 49, 64, 81, 100]"
      ]
     },
     "execution_count": 9,
     "metadata": {},
     "output_type": "execute_result"
    }
   ],
   "source": [
    "list(map(pow,a))"
   ]
  },
  {
   "cell_type": "code",
   "execution_count": null,
   "id": "57f998f0-d441-46ab-992d-bb61aad61ed1",
   "metadata": {},
   "outputs": [],
   "source": []
  }
 ],
 "metadata": {
  "kernelspec": {
   "display_name": "Python 3 (ipykernel)",
   "language": "python",
   "name": "python3"
  },
  "language_info": {
   "codemirror_mode": {
    "name": "ipython",
    "version": 3
   },
   "file_extension": ".py",
   "mimetype": "text/x-python",
   "name": "python",
   "nbconvert_exporter": "python",
   "pygments_lexer": "ipython3",
   "version": "3.10.8"
  }
 },
 "nbformat": 4,
 "nbformat_minor": 5
}
