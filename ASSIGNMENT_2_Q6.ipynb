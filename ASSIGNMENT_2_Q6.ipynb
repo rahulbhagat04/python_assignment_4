{
 "cells": [
  {
   "cell_type": "code",
   "execution_count": 1,
   "id": "2fb4ea8c-30bc-4f4c-92ad-9c078a6f3256",
   "metadata": {},
   "outputs": [],
   "source": [
    "# Q6. Write a python program to find palindromes in the given list of strings using lambda and filter\n",
    "#     function.\n",
    "#     ['python', 'php', 'aba', 'radar', 'level']"
   ]
  },
  {
   "cell_type": "code",
   "execution_count": 2,
   "id": "960d0473-5376-45c6-9e76-2d5fcc612a6d",
   "metadata": {},
   "outputs": [],
   "source": [
    "l=['python', 'php', 'aba', 'radar', 'level']"
   ]
  },
  {
   "cell_type": "code",
   "execution_count": 5,
   "id": "11433346-54ea-4095-8ff4-c03de8d78c65",
   "metadata": {},
   "outputs": [
    {
     "data": {
      "text/plain": [
       "['php', 'aba', 'radar', 'level']"
      ]
     },
     "execution_count": 5,
     "metadata": {},
     "output_type": "execute_result"
    }
   ],
   "source": [
    "list(filter( lambda x : x== x[::-1] , l ))"
   ]
  },
  {
   "cell_type": "code",
   "execution_count": null,
   "id": "84c1aa23-bc06-497f-94b2-c510ba0840fb",
   "metadata": {},
   "outputs": [],
   "source": []
  }
 ],
 "metadata": {
  "kernelspec": {
   "display_name": "Python 3 (ipykernel)",
   "language": "python",
   "name": "python3"
  },
  "language_info": {
   "codemirror_mode": {
    "name": "ipython",
    "version": 3
   },
   "file_extension": ".py",
   "mimetype": "text/x-python",
   "name": "python",
   "nbconvert_exporter": "python",
   "pygments_lexer": "ipython3",
   "version": "3.10.8"
  }
 },
 "nbformat": 4,
 "nbformat_minor": 5
}
