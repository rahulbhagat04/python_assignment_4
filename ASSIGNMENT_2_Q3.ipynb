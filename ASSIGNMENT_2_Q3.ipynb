{
 "cells": [
  {
   "cell_type": "code",
   "execution_count": 1,
   "id": "81cd45cd-b6c2-4c88-bdc5-47afb6d10ca7",
   "metadata": {},
   "outputs": [],
   "source": [
    "#Q3. Write a python program to convert the given list of integers into a tuple of strings. Use map and\n",
    "#    lambda functions\n",
    "\n",
    "#    Given String: [1, 2, 3, 4, 5, 6, 7, 8, 9, 10]\n",
    "#    Expected output: ('1', '2', '3', '4', '5', '6', '7', '8', '9', '10')"
   ]
  },
  {
   "cell_type": "code",
   "execution_count": 14,
   "id": "c1ac46a0-07be-4d08-ab12-a8945922b28f",
   "metadata": {},
   "outputs": [],
   "source": [
    "l=[1, 2, 3, 4, 5, 6, 7, 8, 9, 10]"
   ]
  },
  {
   "cell_type": "code",
   "execution_count": 9,
   "id": "777f11c7-187b-4216-a996-0032864962ce",
   "metadata": {},
   "outputs": [],
   "source": [
    "convert= lambda x: str(x)"
   ]
  },
  {
   "cell_type": "code",
   "execution_count": 10,
   "id": "9a247526-81a6-4345-874e-f288725ab668",
   "metadata": {},
   "outputs": [
    {
     "data": {
      "text/plain": [
       "function"
      ]
     },
     "execution_count": 10,
     "metadata": {},
     "output_type": "execute_result"
    }
   ],
   "source": [
    "type(convert)"
   ]
  },
  {
   "cell_type": "code",
   "execution_count": 15,
   "id": "8bd2286b-2a8b-4b1f-bc5f-5581cd28ef08",
   "metadata": {},
   "outputs": [
    {
     "data": {
      "text/plain": [
       "('1', '2', '3', '4', '5', '6', '7', '8', '9', '10')"
      ]
     },
     "execution_count": 15,
     "metadata": {},
     "output_type": "execute_result"
    }
   ],
   "source": [
    "tuple(map(convert,l))"
   ]
  },
  {
   "cell_type": "code",
   "execution_count": null,
   "id": "625731d2-7402-4c29-8336-a6845f63c1c5",
   "metadata": {},
   "outputs": [],
   "source": []
  }
 ],
 "metadata": {
  "kernelspec": {
   "display_name": "Python 3 (ipykernel)",
   "language": "python",
   "name": "python3"
  },
  "language_info": {
   "codemirror_mode": {
    "name": "ipython",
    "version": 3
   },
   "file_extension": ".py",
   "mimetype": "text/x-python",
   "name": "python",
   "nbconvert_exporter": "python",
   "pygments_lexer": "ipython3",
   "version": "3.10.8"
  }
 },
 "nbformat": 4,
 "nbformat_minor": 5
}
